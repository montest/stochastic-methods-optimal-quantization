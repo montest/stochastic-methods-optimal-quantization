{
  "cells": [
    {
      "cell_type": "markdown",
      "metadata": {
        "colab_type": "text",
        "id": "view-in-github"
      },
      "source": [
        "<a href=\"https://colab.research.google.com/github/montest/stochastic-methods-optimal-quantization/blob/pytorch_implentation_dim_1/Lloyd_with_pytorch.ipynb\" target=\"_parent\"><img src=\"https://colab.research.google.com/assets/colab-badge.svg\" alt=\"Open In Colab\"/></a>"
      ]
    },
    {
      "cell_type": "code",
      "execution_count": 2,
      "metadata": {
        "id": "YMZltcoG1xX3"
      },
      "outputs": [],
      "source": [
        "import os\n",
        "import sys\n",
        "import time\n",
        "import torch\n",
        "import itertools\n",
        "\n",
        "import numpy as np\n",
        "import pandas as pd\n",
        "import torch.nn.functional as F\n",
        "\n",
        "from tqdm import trange\n",
        "\n",
        "np.set_printoptions(threshold=np.inf, linewidth=10_000)\n",
        "torch.set_printoptions(profile=\"full\", linewidth=10_000)"
      ]
    },
    {
      "attachments": {},
      "cell_type": "markdown",
      "metadata": {},
      "source": [
        "### Optimized numpy implementation"
      ]
    },
    {
      "cell_type": "code",
      "execution_count": 3,
      "metadata": {
        "id": "UZYmsd5F10hG"
      },
      "outputs": [],
      "source": [
        "def lloyd_method_dim_1(N: int, M: int, nbr_iter: int, seed: int = 0):\n",
        "    \"\"\"\n",
        "    Apply `nbr_iter` iterations of the Randomized Lloyd algorithm in order to build an optimal quantizer of size `N`\n",
        "    for a Gaussian random variable. This implementation is done using numpy.\n",
        "\n",
        "    N: number of centroids\n",
        "    M: number of samples to generate\n",
        "    nbr_iter: number of iterations of fixed point search\n",
        "    seed: numpy seed for reproducibility\n",
        "\n",
        "    Returns: centroids, probabilities associated to each centroid and distortion\n",
        "    \"\"\"\n",
        "    np.random.seed(seed)  # Set seed in order to be able to reproduce the results\n",
        "\n",
        "    # Draw M samples of gaussian variable\n",
        "    xs = np.random.normal(0, 1, size=M)\n",
        "\n",
        "    # Initialize the Voronoi Quantizer randomly and sort it\n",
        "    centroids = np.random.normal(0, 1, size=N)\n",
        "    centroids.sort(axis=0)\n",
        "\n",
        "    with trange(nbr_iter, desc='Lloyd method (numpy)') as t:\n",
        "        for step in t:\n",
        "            # Compute the vertices that separate the centroids\n",
        "            vertices = 0.5 * (centroids[:-1] + centroids[1:])\n",
        "\n",
        "            # Find the index of the centroid that is closest to each sample\n",
        "            index_closest_centroid = np.sum(xs[:, None] >= vertices[None, :], axis=1)\n",
        "\n",
        "            # Compute the new quantization levels as the mean of the samples assigned to each level\n",
        "            centroids = np.array([np.mean(xs[index_closest_centroid == i], axis=0) for i in range(N)])\n",
        "\n",
        "    # Compute, for each sample, the distance to each centroid\n",
        "    dist_centroids_points = np.linalg.norm(centroids.reshape((N, 1)) - xs.reshape(M, 1, 1), axis=2)\n",
        "    # Find the index of the centroid that is closest to each sample using the previously computed distances\n",
        "    index_closest_centroid = dist_centroids_points.argmin(axis=1)\n",
        "    # Compute the probability of each centroid\n",
        "    probabilities = np.bincount(index_closest_centroid) / float(M)\n",
        "    # Compute the final distortion between the samples and the quantizer\n",
        "    distortion = np.mean(dist_centroids_points[np.arange(M), index_closest_centroid] ** 2) * 0.5\n",
        "    return centroids, probabilities, distortion"
      ]
    },
    {
      "attachments": {},
      "cell_type": "markdown",
      "metadata": {},
      "source": [
        "### PyTorch implementation"
      ]
    },
    {
      "cell_type": "code",
      "execution_count": 4,
      "metadata": {
        "colab": {
          "base_uri": "https://localhost:8080/"
        },
        "id": "OtbwMaS_18EE",
        "outputId": "6e49c8c1-12b3-4a41-8692-8534bf4dfde3"
      },
      "outputs": [],
      "source": [
        "def lloyd_method_dim_1_pytorch(N: int, M: int, nbr_iter: int, device: str, seed: int = 0):\n",
        "    \"\"\"\n",
        "    Apply `nbr_iter` iterations of the Randomized Lloyd algorithm in order to build an optimal quantizer of size `N`\n",
        "    for a Gaussian random variable. This implementation is done using torch.\n",
        "\n",
        "    N: number of centroids\n",
        "    M: number of samples to generate\n",
        "    nbr_iter: number of iterations of fixed point search\n",
        "    device: device on which perform the computations: \"cuda\" or \"cpu\"\n",
        "    seed: torch seed for reproducibility\n",
        "\n",
        "    Returns: centroids, probabilities associated to each centroid and distortion\n",
        "    \"\"\"\n",
        "    torch.manual_seed(seed=seed)  # Set seed in order to be able to reproduce the results\n",
        "\n",
        "    with torch.no_grad():\n",
        "        # Draw M samples of gaussian variable\n",
        "        xs = torch.randn(M)\n",
        "        # xs = torch.tensor(torch.randn(M), dtype=torch.float32)\n",
        "        xs = xs.to(device)  # send samples to correct device\n",
        "\n",
        "        # Initialize the Voronoi Quantizer randomly\n",
        "        centroids = torch.randn(N)\n",
        "        centroids, index = centroids.sort()\n",
        "        centroids = centroids.to(device)  # send centroids to correct device\n",
        "\n",
        "        with trange(nbr_iter, desc=f'Lloyd method (pytorch: {device})') as t:\n",
        "            for step in t:\n",
        "                # Compute the vertices that separate the centroids\n",
        "                vertices = 0.5 * (centroids[:-1] + centroids[1:])\n",
        "\n",
        "                # Find the index of the centroid that is closest to each sample\n",
        "                index_closest_centroid = torch.sum(xs[:, None] >= vertices[None, :], dim=1).long()\n",
        "\n",
        "                # Compute the new quantization levels as the mean of the samples assigned to each level\n",
        "                centroids = torch.tensor([torch.mean(xs[index_closest_centroid == i]) for i in range(N)]).to(device)\n",
        "\n",
        "        # Compute, for each sample, the distance to each centroid\n",
        "        dist_centroids_points = torch.norm(centroids - xs.reshape(M, 1, 1), dim=1)\n",
        "        # Find the index of the centroid that is closest to each sample using the previously computed distances\n",
        "        index_closest_centroid = dist_centroids_points.argmin(dim=1)\n",
        "        # Compute the probability of each centroid\n",
        "        probabilities = torch.bincount(index_closest_centroid).to('cpu').numpy()/float(M)\n",
        "        # Compute the final distortion between the samples and the quantizer\n",
        "        distortion = torch.mean(dist_centroids_points[torch.arange(M), index_closest_centroid] ** 2).item() * 0.5\n",
        "        return centroids.to('cpu').numpy(), probabilities, distortion"
      ]
    },
    {
      "attachments": {},
      "cell_type": "markdown",
      "metadata": {},
      "source": [
        "### Some useful functions for benchmarking"
      ]
    },
    {
      "cell_type": "code",
      "execution_count": 6,
      "metadata": {},
      "outputs": [],
      "source": [
        "def check_existance(dict_of_values, df):\n",
        "    v = df.iloc[:, 0] == df.iloc[:, 0]\n",
        "    for key, value in dict_of_values.items():\n",
        "        v &= (df[key] == value)\n",
        "    return v.any()\n",
        "\n",
        "\n",
        "def testing_method(fct_to_test, parameters_grid: dict, path_to_results: str):\n",
        "    if os.path.exists(path_to_results) and os.path.getsize(path_to_results) > 0:\n",
        "        df_results = pd.read_csv(path_to_results, index_col=0)\n",
        "    else:\n",
        "        df_results = pd.DataFrame()\n",
        "\n",
        "    keys, values = zip(*parameters_grid.items())\n",
        "    permutations_dicts = [dict(zip(keys, v)) for v in itertools.product(*values)]\n",
        "\n",
        "    for permutations in permutations_dicts:\n",
        "        dict_result = permutations.copy()\n",
        "        dict_result[\"method_name\"] = fct_to_test.__name__\n",
        "        if len(df_results) > 0 and check_existance(dict_result, df_results):\n",
        "            print(f\"Skipping {dict_result}\")\n",
        "            continue\n",
        "\n",
        "        start_time = time.time()\n",
        "        fct_to_test(**permutations)\n",
        "        elapsed_time = time.time() - start_time\n",
        "        dict_result[\"elapsed_time\"] = elapsed_time\n",
        "        df_results = pd.concat(\n",
        "            [df_results, pd.DataFrame(dict_result, index=[0])],\n",
        "            ignore_index=True\n",
        "        )\n",
        "        df_results.to_csv(path_to_results)"
      ]
    },
    {
      "attachments": {},
      "cell_type": "markdown",
      "metadata": {},
      "source": [
        "### Testing methods"
      ]
    },
    {
      "cell_type": "code",
      "execution_count": 8,
      "metadata": {
        "id": "iUFaCZQp2WJc"
      },
      "outputs": [
        {
          "name": "stdout",
          "output_type": "stream",
          "text": [
            "Skipping {'N': 10, 'M': 5000, 'nbr_iter': 10, 'seed': 0, 'method_name': 'lloyd_method_dim_1'}\n",
            "Skipping {'N': 10, 'M': 5000, 'nbr_iter': 10, 'seed': 1, 'method_name': 'lloyd_method_dim_1'}\n",
            "Skipping {'N': 10, 'M': 5000, 'nbr_iter': 10, 'seed': 2, 'method_name': 'lloyd_method_dim_1'}\n",
            "Skipping {'N': 10, 'M': 5000, 'nbr_iter': 10, 'seed': 3, 'method_name': 'lloyd_method_dim_1'}\n",
            "Skipping {'N': 10, 'M': 5000, 'nbr_iter': 10, 'seed': 4, 'method_name': 'lloyd_method_dim_1'}\n",
            "Skipping {'N': 10, 'M': 5000, 'nbr_iter': 100, 'seed': 0, 'method_name': 'lloyd_method_dim_1'}\n",
            "Skipping {'N': 10, 'M': 5000, 'nbr_iter': 100, 'seed': 1, 'method_name': 'lloyd_method_dim_1'}\n",
            "Skipping {'N': 10, 'M': 5000, 'nbr_iter': 100, 'seed': 2, 'method_name': 'lloyd_method_dim_1'}\n",
            "Skipping {'N': 10, 'M': 5000, 'nbr_iter': 100, 'seed': 3, 'method_name': 'lloyd_method_dim_1'}\n",
            "Skipping {'N': 10, 'M': 5000, 'nbr_iter': 100, 'seed': 4, 'method_name': 'lloyd_method_dim_1'}\n",
            "Skipping {'N': 10, 'M': 5000, 'nbr_iter': 500, 'seed': 0, 'method_name': 'lloyd_method_dim_1'}\n",
            "Skipping {'N': 10, 'M': 5000, 'nbr_iter': 500, 'seed': 1, 'method_name': 'lloyd_method_dim_1'}\n",
            "Skipping {'N': 10, 'M': 5000, 'nbr_iter': 500, 'seed': 2, 'method_name': 'lloyd_method_dim_1'}\n",
            "Skipping {'N': 10, 'M': 5000, 'nbr_iter': 500, 'seed': 3, 'method_name': 'lloyd_method_dim_1'}\n",
            "Skipping {'N': 10, 'M': 5000, 'nbr_iter': 500, 'seed': 4, 'method_name': 'lloyd_method_dim_1'}\n",
            "Skipping {'N': 10, 'M': 5000, 'nbr_iter': 1000, 'seed': 0, 'method_name': 'lloyd_method_dim_1'}\n",
            "Skipping {'N': 10, 'M': 5000, 'nbr_iter': 1000, 'seed': 1, 'method_name': 'lloyd_method_dim_1'}\n",
            "Skipping {'N': 10, 'M': 5000, 'nbr_iter': 1000, 'seed': 2, 'method_name': 'lloyd_method_dim_1'}\n",
            "Skipping {'N': 10, 'M': 5000, 'nbr_iter': 1000, 'seed': 3, 'method_name': 'lloyd_method_dim_1'}\n",
            "Skipping {'N': 10, 'M': 5000, 'nbr_iter': 1000, 'seed': 4, 'method_name': 'lloyd_method_dim_1'}\n",
            "Skipping {'N': 10, 'M': 10000, 'nbr_iter': 10, 'seed': 0, 'method_name': 'lloyd_method_dim_1'}\n",
            "Skipping {'N': 10, 'M': 10000, 'nbr_iter': 10, 'seed': 1, 'method_name': 'lloyd_method_dim_1'}\n",
            "Skipping {'N': 10, 'M': 10000, 'nbr_iter': 10, 'seed': 2, 'method_name': 'lloyd_method_dim_1'}\n",
            "Skipping {'N': 10, 'M': 10000, 'nbr_iter': 10, 'seed': 3, 'method_name': 'lloyd_method_dim_1'}\n",
            "Skipping {'N': 10, 'M': 10000, 'nbr_iter': 10, 'seed': 4, 'method_name': 'lloyd_method_dim_1'}\n",
            "Skipping {'N': 10, 'M': 10000, 'nbr_iter': 100, 'seed': 0, 'method_name': 'lloyd_method_dim_1'}\n",
            "Skipping {'N': 10, 'M': 10000, 'nbr_iter': 100, 'seed': 1, 'method_name': 'lloyd_method_dim_1'}\n",
            "Skipping {'N': 10, 'M': 10000, 'nbr_iter': 100, 'seed': 2, 'method_name': 'lloyd_method_dim_1'}\n",
            "Skipping {'N': 10, 'M': 10000, 'nbr_iter': 100, 'seed': 3, 'method_name': 'lloyd_method_dim_1'}\n",
            "Skipping {'N': 10, 'M': 10000, 'nbr_iter': 100, 'seed': 4, 'method_name': 'lloyd_method_dim_1'}\n",
            "Skipping {'N': 10, 'M': 10000, 'nbr_iter': 500, 'seed': 0, 'method_name': 'lloyd_method_dim_1'}\n",
            "Skipping {'N': 10, 'M': 10000, 'nbr_iter': 500, 'seed': 1, 'method_name': 'lloyd_method_dim_1'}\n",
            "Skipping {'N': 10, 'M': 10000, 'nbr_iter': 500, 'seed': 2, 'method_name': 'lloyd_method_dim_1'}\n",
            "Skipping {'N': 10, 'M': 10000, 'nbr_iter': 500, 'seed': 3, 'method_name': 'lloyd_method_dim_1'}\n",
            "Skipping {'N': 10, 'M': 10000, 'nbr_iter': 500, 'seed': 4, 'method_name': 'lloyd_method_dim_1'}\n",
            "Skipping {'N': 10, 'M': 10000, 'nbr_iter': 1000, 'seed': 0, 'method_name': 'lloyd_method_dim_1'}\n",
            "Skipping {'N': 10, 'M': 10000, 'nbr_iter': 1000, 'seed': 1, 'method_name': 'lloyd_method_dim_1'}\n",
            "Skipping {'N': 10, 'M': 10000, 'nbr_iter': 1000, 'seed': 2, 'method_name': 'lloyd_method_dim_1'}\n",
            "Skipping {'N': 10, 'M': 10000, 'nbr_iter': 1000, 'seed': 3, 'method_name': 'lloyd_method_dim_1'}\n",
            "Skipping {'N': 10, 'M': 10000, 'nbr_iter': 1000, 'seed': 4, 'method_name': 'lloyd_method_dim_1'}\n",
            "Skipping {'N': 10, 'M': 20000, 'nbr_iter': 10, 'seed': 0, 'method_name': 'lloyd_method_dim_1'}\n",
            "Skipping {'N': 10, 'M': 20000, 'nbr_iter': 10, 'seed': 1, 'method_name': 'lloyd_method_dim_1'}\n",
            "Skipping {'N': 10, 'M': 20000, 'nbr_iter': 10, 'seed': 2, 'method_name': 'lloyd_method_dim_1'}\n",
            "Skipping {'N': 10, 'M': 20000, 'nbr_iter': 10, 'seed': 3, 'method_name': 'lloyd_method_dim_1'}\n",
            "Skipping {'N': 10, 'M': 20000, 'nbr_iter': 10, 'seed': 4, 'method_name': 'lloyd_method_dim_1'}\n",
            "Skipping {'N': 10, 'M': 20000, 'nbr_iter': 100, 'seed': 0, 'method_name': 'lloyd_method_dim_1'}\n",
            "Skipping {'N': 10, 'M': 20000, 'nbr_iter': 100, 'seed': 1, 'method_name': 'lloyd_method_dim_1'}\n",
            "Skipping {'N': 10, 'M': 20000, 'nbr_iter': 100, 'seed': 2, 'method_name': 'lloyd_method_dim_1'}\n",
            "Skipping {'N': 10, 'M': 20000, 'nbr_iter': 100, 'seed': 3, 'method_name': 'lloyd_method_dim_1'}\n",
            "Skipping {'N': 10, 'M': 20000, 'nbr_iter': 100, 'seed': 4, 'method_name': 'lloyd_method_dim_1'}\n",
            "Skipping {'N': 10, 'M': 20000, 'nbr_iter': 500, 'seed': 0, 'method_name': 'lloyd_method_dim_1'}\n",
            "Skipping {'N': 10, 'M': 20000, 'nbr_iter': 500, 'seed': 1, 'method_name': 'lloyd_method_dim_1'}\n",
            "Skipping {'N': 10, 'M': 20000, 'nbr_iter': 500, 'seed': 2, 'method_name': 'lloyd_method_dim_1'}\n",
            "Skipping {'N': 10, 'M': 20000, 'nbr_iter': 500, 'seed': 3, 'method_name': 'lloyd_method_dim_1'}\n",
            "Skipping {'N': 10, 'M': 20000, 'nbr_iter': 500, 'seed': 4, 'method_name': 'lloyd_method_dim_1'}\n",
            "Skipping {'N': 10, 'M': 20000, 'nbr_iter': 1000, 'seed': 0, 'method_name': 'lloyd_method_dim_1'}\n",
            "Skipping {'N': 10, 'M': 20000, 'nbr_iter': 1000, 'seed': 1, 'method_name': 'lloyd_method_dim_1'}\n",
            "Skipping {'N': 10, 'M': 20000, 'nbr_iter': 1000, 'seed': 2, 'method_name': 'lloyd_method_dim_1'}\n",
            "Skipping {'N': 10, 'M': 20000, 'nbr_iter': 1000, 'seed': 3, 'method_name': 'lloyd_method_dim_1'}\n",
            "Skipping {'N': 10, 'M': 20000, 'nbr_iter': 1000, 'seed': 4, 'method_name': 'lloyd_method_dim_1'}\n",
            "Skipping {'N': 10, 'M': 100000, 'nbr_iter': 10, 'seed': 0, 'method_name': 'lloyd_method_dim_1'}\n",
            "Skipping {'N': 10, 'M': 100000, 'nbr_iter': 10, 'seed': 1, 'method_name': 'lloyd_method_dim_1'}\n",
            "Skipping {'N': 10, 'M': 100000, 'nbr_iter': 10, 'seed': 2, 'method_name': 'lloyd_method_dim_1'}\n",
            "Skipping {'N': 10, 'M': 100000, 'nbr_iter': 10, 'seed': 3, 'method_name': 'lloyd_method_dim_1'}\n",
            "Skipping {'N': 10, 'M': 100000, 'nbr_iter': 10, 'seed': 4, 'method_name': 'lloyd_method_dim_1'}\n",
            "Skipping {'N': 10, 'M': 100000, 'nbr_iter': 100, 'seed': 0, 'method_name': 'lloyd_method_dim_1'}\n",
            "Skipping {'N': 10, 'M': 100000, 'nbr_iter': 100, 'seed': 1, 'method_name': 'lloyd_method_dim_1'}\n",
            "Skipping {'N': 10, 'M': 100000, 'nbr_iter': 100, 'seed': 2, 'method_name': 'lloyd_method_dim_1'}\n",
            "Skipping {'N': 10, 'M': 100000, 'nbr_iter': 100, 'seed': 3, 'method_name': 'lloyd_method_dim_1'}\n",
            "Skipping {'N': 10, 'M': 100000, 'nbr_iter': 100, 'seed': 4, 'method_name': 'lloyd_method_dim_1'}\n",
            "Skipping {'N': 10, 'M': 100000, 'nbr_iter': 500, 'seed': 0, 'method_name': 'lloyd_method_dim_1'}\n",
            "Skipping {'N': 10, 'M': 100000, 'nbr_iter': 500, 'seed': 1, 'method_name': 'lloyd_method_dim_1'}\n"
          ]
        },
        {
          "name": "stderr",
          "output_type": "stream",
          "text": [
            "Lloyd method (numpy): 100%|██████████| 500/500 [00:03<00:00, 153.16it/s]\n",
            "Lloyd method (numpy): 100%|██████████| 500/500 [00:03<00:00, 151.47it/s]\n",
            "Lloyd method (numpy):  79%|███████▊  | 393/500 [00:02<00:00, 156.36it/s]\n"
          ]
        },
        {
          "ename": "KeyboardInterrupt",
          "evalue": "",
          "output_type": "error",
          "traceback": [
            "\u001b[0;31m---------------------------------------------------------------------------\u001b[0m",
            "\u001b[0;31mKeyboardInterrupt\u001b[0m                         Traceback (most recent call last)",
            "Cell \u001b[0;32mIn[8], line 9\u001b[0m\n\u001b[1;32m      1\u001b[0m parameters_grid \u001b[39m=\u001b[39m {\n\u001b[1;32m      2\u001b[0m         \u001b[39m\"\u001b[39m\u001b[39mN\u001b[39m\u001b[39m\"\u001b[39m: [\u001b[39m10\u001b[39m, \u001b[39m20\u001b[39m, \u001b[39m50\u001b[39m, \u001b[39m100\u001b[39m, \u001b[39m200\u001b[39m, \u001b[39m500\u001b[39m],\n\u001b[1;32m      3\u001b[0m         \u001b[39m\"\u001b[39m\u001b[39mM\u001b[39m\u001b[39m\"\u001b[39m: [\u001b[39m5000\u001b[39m, \u001b[39m10000\u001b[39m, \u001b[39m20000\u001b[39m, \u001b[39m100000\u001b[39m],\n\u001b[1;32m      4\u001b[0m         \u001b[39m\"\u001b[39m\u001b[39mnbr_iter\u001b[39m\u001b[39m\"\u001b[39m: [\u001b[39m10\u001b[39m, \u001b[39m100\u001b[39m, \u001b[39m500\u001b[39m, \u001b[39m1000\u001b[39m],\n\u001b[1;32m      5\u001b[0m         \u001b[39m\"\u001b[39m\u001b[39mseed\u001b[39m\u001b[39m\"\u001b[39m: [\u001b[39m0\u001b[39m, \u001b[39m1\u001b[39m, \u001b[39m2\u001b[39m, \u001b[39m3\u001b[39m, \u001b[39m4\u001b[39m]\n\u001b[1;32m      6\u001b[0m     }\n\u001b[1;32m      7\u001b[0m path_to_results \u001b[39m=\u001b[39m \u001b[39m\"\u001b[39m\u001b[39mresults.csv\u001b[39m\u001b[39m\"\u001b[39m\n\u001b[0;32m----> 9\u001b[0m testing_method(lloyd_method_dim_1, parameters_grid, path_to_results)\n",
            "Cell \u001b[0;32mIn[6], line 25\u001b[0m, in \u001b[0;36mtesting_method\u001b[0;34m(fct_to_test, parameters_grid, path_to_results)\u001b[0m\n\u001b[1;32m     22\u001b[0m     \u001b[39mcontinue\u001b[39;00m\n\u001b[1;32m     24\u001b[0m start_time \u001b[39m=\u001b[39m time\u001b[39m.\u001b[39mtime()\n\u001b[0;32m---> 25\u001b[0m fct_to_test(\u001b[39m*\u001b[39;49m\u001b[39m*\u001b[39;49mpermutations)\n\u001b[1;32m     26\u001b[0m elapsed_time \u001b[39m=\u001b[39m time\u001b[39m.\u001b[39mtime() \u001b[39m-\u001b[39m start_time\n\u001b[1;32m     27\u001b[0m dict_result[\u001b[39m\"\u001b[39m\u001b[39melapsed_time\u001b[39m\u001b[39m\"\u001b[39m] \u001b[39m=\u001b[39m elapsed_time\n",
            "Cell \u001b[0;32mIn[3], line 28\u001b[0m, in \u001b[0;36mlloyd_method_dim_1\u001b[0;34m(N, M, nbr_iter, seed)\u001b[0m\n\u001b[1;32m     25\u001b[0m vertices \u001b[39m=\u001b[39m \u001b[39m0.5\u001b[39m \u001b[39m*\u001b[39m (centroids[:\u001b[39m-\u001b[39m\u001b[39m1\u001b[39m] \u001b[39m+\u001b[39m centroids[\u001b[39m1\u001b[39m:])\n\u001b[1;32m     27\u001b[0m \u001b[39m# Find the index of the centroid that is closest to each sample\u001b[39;00m\n\u001b[0;32m---> 28\u001b[0m index_closest_centroid \u001b[39m=\u001b[39m np\u001b[39m.\u001b[39msum(xs[:, \u001b[39mNone\u001b[39;49;00m] \u001b[39m>\u001b[39;49m\u001b[39m=\u001b[39;49m vertices[\u001b[39mNone\u001b[39;49;00m, :], axis\u001b[39m=\u001b[39m\u001b[39m1\u001b[39m)\n\u001b[1;32m     30\u001b[0m \u001b[39m# Compute the new quantization levels as the mean of the samples assigned to each level\u001b[39;00m\n\u001b[1;32m     31\u001b[0m centroids \u001b[39m=\u001b[39m np\u001b[39m.\u001b[39marray([np\u001b[39m.\u001b[39mmean(xs[index_closest_centroid \u001b[39m==\u001b[39m i], axis\u001b[39m=\u001b[39m\u001b[39m0\u001b[39m) \u001b[39mfor\u001b[39;00m i \u001b[39min\u001b[39;00m \u001b[39mrange\u001b[39m(N)])\n",
            "\u001b[0;31mKeyboardInterrupt\u001b[0m: "
          ]
        }
      ],
      "source": [
        "parameters_grid = {\n",
        "        \"N\": [10, 20, 50, 100, 200, 500],\n",
        "        \"M\": [5000, 10000, 20000, 100000],\n",
        "        \"nbr_iter\": [10, 100, 500, 1000],\n",
        "        \"seed\": [0, 1, 2, 3, 4]\n",
        "    }\n",
        "path_to_results = \"results.csv\"\n",
        "\n",
        "testing_method(lloyd_method_dim_1, parameters_grid, path_to_results)"
      ]
    },
    {
      "cell_type": "code",
      "execution_count": null,
      "metadata": {},
      "outputs": [],
      "source": []
    }
  ],
  "metadata": {
    "accelerator": "GPU",
    "colab": {
      "authorship_tag": "ABX9TyMbMLQnTY0k8H8SqrM60Cxq",
      "include_colab_link": true,
      "provenance": []
    },
    "gpuClass": "standard",
    "kernelspec": {
      "display_name": "venv",
      "language": "python",
      "name": "python3"
    },
    "language_info": {
      "codemirror_mode": {
        "name": "ipython",
        "version": 3
      },
      "file_extension": ".py",
      "mimetype": "text/x-python",
      "name": "python",
      "nbconvert_exporter": "python",
      "pygments_lexer": "ipython3",
      "version": "3.9.16"
    },
    "vscode": {
      "interpreter": {
        "hash": "57269b72aaeabcedf2a03a235d50b7ad8fc0ec0622b65ff8b5d5d56223729a4f"
      }
    }
  },
  "nbformat": 4,
  "nbformat_minor": 0
}
